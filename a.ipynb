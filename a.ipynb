{
 "cells": [
  {
   "cell_type": "code",
   "execution_count": 1,
   "id": "4e8fb732",
   "metadata": {},
   "outputs": [
    {
     "name": "stdout",
     "output_type": "stream",
     "text": [
      "Python            : 3.10.16\n",
      "Platform          : Windows 10\n",
      "Torch             : 2.5.0+cu121\n",
      "Compiled w/ CUDA? : True\n",
      "CUDA runtime      : 12.1\n",
      "cuDNN version     : 90100\n"
     ]
    }
   ],
   "source": [
    "import torch, platform, sys, os\n",
    "\n",
    "print(f\"Python            : {sys.version.split()[0]}\")\n",
    "print(f\"Platform          : {platform.system()} {platform.release()}\")\n",
    "print(f\"Torch             : {torch.__version__}\")\n",
    "print(f\"Compiled w/ CUDA? : {torch.cuda.is_available()}\")\n",
    "print(f\"CUDA runtime      : {torch.version.cuda}\")       # toolkit PyTorch was built against\n",
    "print(f\"cuDNN version     : {torch.backends.cudnn.version()}\")\n"
   ]
  },
  {
   "cell_type": "code",
   "execution_count": 2,
   "id": "e373c87a",
   "metadata": {},
   "outputs": [
    {
     "name": "stdout",
     "output_type": "stream",
     "text": [
      "Active device id  : 0\n",
      "Device name       : NVIDIA GeForce RTX 3090\n",
      "Tensor mean (GPU) : 0.0009563762578181922\n"
     ]
    }
   ],
   "source": [
    "if torch.cuda.is_available():\n",
    "    device_id = torch.cuda.current_device()\n",
    "    print(\"Active device id  :\", device_id)\n",
    "    print(\"Device name       :\", torch.cuda.get_device_name(device_id))\n",
    "\n",
    "    # Allocate & do a quick reduction to be sure kernels execute\n",
    "    x = torch.randn(1024, 2048, device='cuda')\n",
    "    print(\"Tensor mean (GPU) :\", x.mean().item())\n",
    "else:\n",
    "    print(\"CUDA not available – check your wheel & driver\")\n"
   ]
  },
  {
   "cell_type": "code",
   "execution_count": 3,
   "id": "e8addc07",
   "metadata": {},
   "outputs": [
    {
     "name": "stdout",
     "output_type": "stream",
     "text": [
      "The slowest run took 209.41 times longer than the fastest. This could mean that an intermediate result is being cached.\n",
      "2.64 ms ± 3.68 ms per loop (mean ± std. dev. of 3 runs, 3 loops each)\n"
     ]
    }
   ],
   "source": [
    "%%timeit -n3 -r3\n",
    "_ = torch.mm(torch.randn(4096, 4096, device='cuda'),\n",
    "             torch.randn(4096, 4096, device='cuda'))\n"
   ]
  },
  {
   "cell_type": "code",
   "execution_count": null,
   "id": "0e3b8b88",
   "metadata": {},
   "outputs": [],
   "source": [
    "#!/usr/bin/env python\n",
    "\"\"\"Extracts ROI patches from each scanned page.\"\"\"\n",
    "import multiprocessing as mp\n",
    "from pathlib import Path\n",
    "from src.printerid.data.patch_extractor import extract_edge_patches\n",
    "\n",
    "\n",
    "SRC = Path(r\"D:/code/printer_id/src/printerid/dataVIPPrint-Dataset/scans\")   # 👈 your scans\n",
    "DST = Path(r\"D:/code/printer_id/src/printerid/dataVIPPrint_patches\")\n",
    "\n",
    "def worker(img_path):\n",
    "    printer = img_path.parent.name         # e.g. printer0\n",
    "    out_dir = DST / printer\n",
    "    extract_edge_patches(img_path, out_dir)\n",
    "\n",
    "if __name__ == \"__main__\":\n",
    "    imgs = list(Path(SRC).rglob(\"*.png\"))\n",
    "    with mp.Pool() as pool:\n",
    "        for _ in pool.imap_unordered(worker, imgs):\n",
    "            pass\n"
   ]
  },
  {
   "cell_type": "code",
   "execution_count": 9,
   "id": "ed5792f7",
   "metadata": {},
   "outputs": [
    {
     "name": "stdout",
     "output_type": "stream",
     "text": [
      "Collecting tqdm\n",
      "  Downloading tqdm-4.67.1-py3-none-any.whl.metadata (57 kB)\n",
      "Requirement already satisfied: colorama in c:\\users\\admin\\anaconda3\\envs\\egpu\\lib\\site-packages (from tqdm) (0.4.6)\n",
      "Downloading tqdm-4.67.1-py3-none-any.whl (78 kB)\n",
      "Installing collected packages: tqdm\n",
      "Successfully installed tqdm-4.67.1\n"
     ]
    },
    {
     "name": "stderr",
     "output_type": "stream",
     "text": [
      "WARNING: Ignoring invalid distribution ~illow (C:\\Users\\Admin\\anaconda3\\envs\\egpu\\Lib\\site-packages)\n",
      "WARNING: Ignoring invalid distribution ~illow (C:\\Users\\Admin\\anaconda3\\envs\\egpu\\Lib\\site-packages)\n",
      "WARNING: Ignoring invalid distribution ~illow (C:\\Users\\Admin\\anaconda3\\envs\\egpu\\Lib\\site-packages)\n"
     ]
    }
   ],
   "source": [
    "!pip install tqdm"
   ]
  },
  {
   "cell_type": "code",
   "execution_count": null,
   "id": "ceb4aae1",
   "metadata": {},
   "outputs": [],
   "source": []
  }
 ],
 "metadata": {
  "kernelspec": {
   "display_name": "egpu",
   "language": "python",
   "name": "python3"
  },
  "language_info": {
   "codemirror_mode": {
    "name": "ipython",
    "version": 3
   },
   "file_extension": ".py",
   "mimetype": "text/x-python",
   "name": "python",
   "nbconvert_exporter": "python",
   "pygments_lexer": "ipython3",
   "version": "3.11.4"
  }
 },
 "nbformat": 4,
 "nbformat_minor": 5
}
