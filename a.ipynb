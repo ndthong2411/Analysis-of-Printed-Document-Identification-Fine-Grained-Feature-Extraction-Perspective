{
 "cells": [
  {
   "cell_type": "code",
   "execution_count": 1,
   "id": "4e8fb732",
   "metadata": {},
   "outputs": [
    {
     "name": "stdout",
     "output_type": "stream",
     "text": [
      "Python            : 3.10.16\n",
      "Platform          : Windows 10\n",
      "Torch             : 2.5.0+cu121\n",
      "Compiled w/ CUDA? : True\n",
      "CUDA runtime      : 12.1\n",
      "cuDNN version     : 90100\n"
     ]
    }
   ],
   "source": [
    "import torch, platform, sys, os\n",
    "\n",
    "print(f\"Python            : {sys.version.split()[0]}\")\n",
    "print(f\"Platform          : {platform.system()} {platform.release()}\")\n",
    "print(f\"Torch             : {torch.__version__}\")\n",
    "print(f\"Compiled w/ CUDA? : {torch.cuda.is_available()}\")\n",
    "print(f\"CUDA runtime      : {torch.version.cuda}\")       # toolkit PyTorch was built against\n",
    "print(f\"cuDNN version     : {torch.backends.cudnn.version()}\")\n"
   ]
  },
  {
   "cell_type": "code",
   "execution_count": 2,
   "id": "e373c87a",
   "metadata": {},
   "outputs": [
    {
     "name": "stdout",
     "output_type": "stream",
     "text": [
      "Active device id  : 0\n",
      "Device name       : NVIDIA GeForce RTX 3090\n",
      "Tensor mean (GPU) : 0.0009563762578181922\n"
     ]
    }
   ],
   "source": [
    "if torch.cuda.is_available():\n",
    "    device_id = torch.cuda.current_device()\n",
    "    print(\"Active device id  :\", device_id)\n",
    "    print(\"Device name       :\", torch.cuda.get_device_name(device_id))\n",
    "\n",
    "    # Allocate & do a quick reduction to be sure kernels execute\n",
    "    x = torch.randn(1024, 2048, device='cuda')\n",
    "    print(\"Tensor mean (GPU) :\", x.mean().item())\n",
    "else:\n",
    "    print(\"CUDA not available – check your wheel & driver\")\n"
   ]
  },
  {
   "cell_type": "code",
   "execution_count": 3,
   "id": "e8addc07",
   "metadata": {},
   "outputs": [
    {
     "name": "stdout",
     "output_type": "stream",
     "text": [
      "The slowest run took 209.41 times longer than the fastest. This could mean that an intermediate result is being cached.\n",
      "2.64 ms ± 3.68 ms per loop (mean ± std. dev. of 3 runs, 3 loops each)\n"
     ]
    }
   ],
   "source": [
    "%%timeit -n3 -r3\n",
    "_ = torch.mm(torch.randn(4096, 4096, device='cuda'),\n",
    "             torch.randn(4096, 4096, device='cuda'))\n"
   ]
  },
  {
   "cell_type": "code",
   "execution_count": 8,
   "id": "0e3b8b88",
   "metadata": {},
   "outputs": [],
   "source": [
    "from data.patch_extractor import extract_edge_patches\n"
   ]
  },
  {
   "cell_type": "code",
   "execution_count": null,
   "id": "ed5792f7",
   "metadata": {},
   "outputs": [
    {
     "name": "stderr",
     "output_type": "stream",
     "text": [
      "Traceback (most recent call last):\n",
      "  File \"e:\\thong\\code\\printd\\scripts\\preprocess_patches.py\", line 5, in <module>\n",
      "    from data.patch_extractor import extract_edge_patches\n",
      "ModuleNotFoundError: No module named 'data'\n"
     ]
    }
   ],
   "source": [
    "!python scripts/preprocess_patches.py"
   ]
  }
 ],
 "metadata": {
  "kernelspec": {
   "display_name": "eGPU",
   "language": "python",
   "name": "python3"
  },
  "language_info": {
   "codemirror_mode": {
    "name": "ipython",
    "version": 3
   },
   "file_extension": ".py",
   "mimetype": "text/x-python",
   "name": "python",
   "nbconvert_exporter": "python",
   "pygments_lexer": "ipython3",
   "version": "3.10.16"
  }
 },
 "nbformat": 4,
 "nbformat_minor": 5
}
